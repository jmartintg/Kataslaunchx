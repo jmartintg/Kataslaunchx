{
 "cells": [
  {
   "cell_type": "code",
   "execution_count": null,
   "metadata": {},
   "outputs": [],
   "source": []
  },
  {
   "cell_type": "markdown",
   "metadata": {},
   "source": [
    "# kata del modulo 9"
   ]
  },
  {
   "cell_type": "code",
   "execution_count": 34,
   "metadata": {},
   "outputs": [],
   "source": [
    "def Reporte(tanque_1, tanque_2, tanque_3):\n",
    "    total_average = (tanque_1 + tanque_2 + tanque_3) / 3\n",
    "    return f\"\"\"Reporte de combustible:\n",
    "    Promedio de los tanques: {total_average}%\n",
    "    Tanque 1: {tanque_1}%\n",
    "    Tanque 2: {tanque_2}%\n",
    "    Tanque 3: {tanque_3}% \"\"\""
   ]
  },
  {
   "cell_type": "code",
   "execution_count": 35,
   "metadata": {},
   "outputs": [
    {
     "name": "stdout",
     "output_type": "stream",
     "text": [
      "Reporte de combustible:\n",
      "    Promedio de los tanques: 78.33333333333333%\n",
      "    Tanque 1: 80%\n",
      "    Tanque 2: 70%\n",
      "    Tanque 3: 85% \n"
     ]
    }
   ],
   "source": [
    "print(Reporte(80, 70, 85))"
   ]
  },
  {
   "cell_type": "code",
   "execution_count": 36,
   "metadata": {},
   "outputs": [
    {
     "data": {
      "text/plain": [
       "82.0"
      ]
     },
     "execution_count": 36,
     "metadata": {},
     "output_type": "execute_result"
    }
   ],
   "source": [
    "def average(values):\n",
    "    total = sum(values)\n",
    "    number_of_items = len(values)\n",
    "    return total / number_of_items\n",
    "average([80, 85, 81]) "
   ]
  },
  {
   "cell_type": "code",
   "execution_count": 37,
   "metadata": {},
   "outputs": [
    {
     "name": "stdout",
     "output_type": "stream",
     "text": [
      "Reporte del combustible:\n",
      "    Promedio total de los tanques: 78.0%\n",
      "    Tanque 1k: 88%\n",
      "    Tanque 2: 76%\n",
      "    Tanque 3: 70% \n",
      "    \n"
     ]
    }
   ],
   "source": [
    "def reporte_comb(tanque_1, tanque_2, tanque_3):\n",
    "    return f\"\"\"Reporte del combustible:\n",
    "    Promedio total de los tanques: {average([tanque_1, tanque_2, tanque_3])}%\n",
    "    Tanque 1k: {tanque_1}%\n",
    "    Tanque 2: {tanque_2}%\n",
    "    Tanque 3: {tanque_3}% \n",
    "    \"\"\"\n",
    "print(reporte_comb(88, 76, 70))"
   ]
  },
  {
   "cell_type": "markdown",
   "metadata": {},
   "source": [
    "## Ejercico numero 2"
   ]
  },
  {
   "cell_type": "code",
   "execution_count": 50,
   "metadata": {},
   "outputs": [
    {
     "name": "stdout",
     "output_type": "stream",
     "text": [
      "\n",
      "    Mision a Europa\n",
      "    Tiempo de vuelo: 65 Minutos\n",
      "    Combustible sobrante: 766000 Litros\n",
      "    \n"
     ]
    }
   ],
   "source": [
    "def Mision_1(Hora_pre, tiempo_vuelo, destino, tanque_externo, tanque_interno):\n",
    "    return f\"\"\"\n",
    "    Mision a {destino}\n",
    "    Tiempo de vuelo: {Hora_pre + tiempo_vuelo} Minutos\n",
    "    Combustible sobrante: {tanque_externo + tanque_interno} Litros\n",
    "    \"\"\"\n",
    "\n",
    "print(Mision_1(14, 51, \"Europa\", 366000, 400000))"
   ]
  },
  {
   "cell_type": "code",
   "execution_count": 51,
   "metadata": {},
   "outputs": [
    {
     "name": "stdout",
     "output_type": "stream",
     "text": [
      "\n",
      "    Mision a Europa\n",
      "    Tiempo de viaje: 76 Minutos\n",
      "    Combustible sobrante: 766000 Litros\n",
      "    \n"
     ]
    }
   ],
   "source": [
    "def Mision_1(destino, *minutos, **Res_comb):\n",
    "    return f\"\"\"\n",
    "    Mision a {destino}\n",
    "    Tiempo de viaje: {sum(minutos)} Minutos\n",
    "    Combustible sobrante: {sum(Res_comb.values())} Litros\n",
    "    \"\"\"\n",
    "\n",
    "print(Mision_1(\"Europa\", 10, 15, 51, main=366000, external=400000))"
   ]
  },
  {
   "cell_type": "code",
   "execution_count": 58,
   "metadata": {},
   "outputs": [
    {
     "name": "stdout",
     "output_type": "stream",
     "text": [
      "\n",
      "    Mision a Europa\n",
      "    Tiempo de viaje: 74 minutes\n",
      "    Combustible sobrante: 766600 Litros\n",
      "    Primer Tanque = 366600 Litros Sobrantes\n",
      "Segundo Tanque = 400000 Litros Sobrantes\n",
      "\n"
     ]
    }
   ],
   "source": [
    "def Mision_1(destino, *miutos, **Res_comb):\n",
    "    Reporte_general = f\"\"\"\n",
    "    Mision a {destino}\n",
    "    Tiempo de viaje: {sum(miutos)} minutes\n",
    "    Combustible sobrante: {sum(Res_comb.values())} Litros\n",
    "    \"\"\"\n",
    "    for Tanque_principal, litros in Res_comb.items():\n",
    "        Reporte_general += f\"{Tanque_principal} Tanque = {litros} Litros Sobrantes\\n\"\n",
    "    return Reporte_general\n",
    "\n",
    "print(Mision_1(\"Europa\", 8, 11, 55, Primer=366600, Segundo=400000))"
   ]
  }
 ],
 "metadata": {
  "interpreter": {
   "hash": "0dda09140a1fd88ea879080486bbeb4c81cc74626dc51b563162033e734c6912"
  },
  "kernelspec": {
   "display_name": "Python 3.10.2 64-bit",
   "language": "python",
   "name": "python3"
  },
  "language_info": {
   "codemirror_mode": {
    "name": "ipython",
    "version": 3
   },
   "file_extension": ".py",
   "mimetype": "text/x-python",
   "name": "python",
   "nbconvert_exporter": "python",
   "pygments_lexer": "ipython3",
   "version": "3.10.2"
  },
  "orig_nbformat": 4
 },
 "nbformat": 4,
 "nbformat_minor": 2
}
